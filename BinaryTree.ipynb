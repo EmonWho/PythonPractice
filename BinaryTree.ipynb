{
 "cells": [
  {
   "cell_type": "code",
   "execution_count": 10,
   "metadata": {},
   "outputs": [
    {
     "data": {
      "text/plain": [
       "'1-2-4-5-3-6-7-'"
      ]
     },
     "execution_count": 10,
     "metadata": {},
     "output_type": "execute_result"
    }
   ],
   "source": [
    "class Node(object):\n",
    "  def __init__(self,value):\n",
    "    self.value=value\n",
    "    self.right=None\n",
    "    self.left=None\n",
    "class BinaryTree(object):  \n",
    "  def __init__(self,root):\n",
    "    self.root=Node(root) \n",
    "\n",
    "  def print_tree(self,traversal_type):\n",
    "    if traversal_type==\"preorder\":\n",
    "      return self.preorder_print(tree.root, \"\")\n",
    "    elif traversal_type==\"inorder\":\n",
    "      return self.inorder_print(tree.root, \"\")\n",
    "    \n",
    "    elif traversal_type==\"postorder\":\n",
    "      return self.postorder_print(tree.root, \"\")\n",
    "\n",
    "\n",
    "    else:\n",
    "      print(\"traversal type \" +str(traversal_type) + \"is not supported.\")\n",
    "      return False\n",
    "\n",
    "\n",
    "  def preorder_print (self,start,traversal):\n",
    "    #\"\"\"Root-left-Right\"\"\"\n",
    "    if start:\n",
    "      traversal += (str(start.value)+ \"-\")\n",
    "      traversal = self.preorder_print(start.left,traversal)\n",
    "      traversal = self.preorder_print(start.right,traversal)\n",
    "    return traversal\n",
    "\n",
    "  def inorder_print(self,start,traversal):\n",
    "    #\"\"\"left-Root-Right\"\"\"\n",
    "    if start:\n",
    "      traversal = self.inorder_print(start.left,traversal)\n",
    "      traversal +=(str(start.value)+ \"-\" )\n",
    "      traversal = self.inorder_print(start.right,traversal)\n",
    "    return traversal  \n",
    "\n",
    "  def postorder_print(self,start,traversal):\n",
    "    #\"\"\"left-Right-Root\"\"\"\n",
    "    if start:\n",
    "      traversal = self.postorder_print(start.left,traversal)\n",
    "      traversal = self.postorder_print(start.right,traversal)\n",
    "      traversal +=(str(start.value)+ \"-\" )\n",
    "    return traversal    \n",
    "\n",
    "\n",
    "\n",
    "  \n",
    "tree = BinaryTree(1)\n",
    "tree.root.left=Node(2)\n",
    "tree.root.right=Node(3)\n",
    "tree.root.left.left=Node(4)\n",
    "tree.root.left.right=Node(5)\n",
    "tree.root.right.left=Node(6)\n",
    "tree.root.right.right=Node(7)     \n",
    "\n",
    "tree.print_tree(\"preorder\")\n",
    "#tree.print_tree(\"inorder\")\n",
    "#tree.print_tree(\"postorder\")"
   ]
  },
  {
   "cell_type": "code",
   "execution_count": null,
   "metadata": {},
   "outputs": [],
   "source": []
  }
 ],
 "metadata": {
  "interpreter": {
   "hash": "2be5faf79681da6f2a61fdfdd5405d65d042280f7fba6178067603e3a2925119"
  },
  "kernelspec": {
   "display_name": "Python 3.10.0 64-bit",
   "language": "python",
   "name": "python3"
  },
  "language_info": {
   "codemirror_mode": {
    "name": "ipython",
    "version": 3
   },
   "file_extension": ".py",
   "mimetype": "text/x-python",
   "name": "python",
   "nbconvert_exporter": "python",
   "pygments_lexer": "ipython3",
   "version": "3.10.0"
  },
  "orig_nbformat": 4
 },
 "nbformat": 4,
 "nbformat_minor": 2
}
