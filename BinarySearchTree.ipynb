{
 "cells": [
  {
   "cell_type": "code",
   "execution_count": 9,
   "metadata": {},
   "outputs": [
    {
     "data": {
      "text/plain": [
       "'4-10-12-15-18-22-24-25-31-35-44-50-66-70-90-'"
      ]
     },
     "execution_count": 9,
     "metadata": {},
     "output_type": "execute_result"
    }
   ],
   "source": [
    "class Node(object):\n",
    "  def __init__(self,value):\n",
    "    self.value=value\n",
    "    self.right=None\n",
    "    self.left=None\n",
    "class BinaryTree(object):\n",
    "  def __init__(self,root):\n",
    "    self.root=Node(root)\n",
    "\n",
    "  def print_tree(self,travarsal_type):\n",
    "    if travarsal_type==\"preorder\":\n",
    "      return self.preorder_print(tree.root, \"\")\n",
    "\n",
    "    elif travarsal_type==\"inorder\":\n",
    "      return self.inorder_print(tree.root, \"\")\n",
    "\n",
    "    elif travarsal_type==\"postorder\":\n",
    "       return self.postorder_print(tree.root, \"\")\n",
    "\n",
    "    else:\n",
    "      print(\"Travarsal type\" + str(travarsal_type) + \"is not supported.\")\n",
    "      return False\n",
    "        \n",
    "      \n",
    "  def preorder_print (self,start,travarsal):\n",
    "    #\"\"\"Root-left-Right\"\"\"\n",
    "    if start:\n",
    "      travarsal += (str(start.value)+ \"-\")\n",
    "      travarsal = self.preorder_print(start.left,travarsal)\n",
    "      travarsal = self.preorder_print(start.right,travarsal)\n",
    "    return travarsal\n",
    "    \n",
    "  def inorder_print(self,start,travarsal):\n",
    "    #\"\"\"left-Root-Right\"\"\"\n",
    "    if start:\n",
    "      travarsal = self.inorder_print(start.left,travarsal)\n",
    "      travarsal +=(str(start.value)+ \"-\" )\n",
    "      travarsal = self.inorder_print(start.right,travarsal)\n",
    "    return travarsal\n",
    "\n",
    "  def postorder_print(self,start,travarsal):\n",
    "    if start:\n",
    "      travarsal=self.postorder_print(start.left,travarsal)\n",
    "      travarsal= self.postorder_print(start.right,travarsal)\n",
    "      travarsel += (str(start.value)+\"-\")\n",
    "    return travarsal      \n",
    "\n",
    "               \n",
    "tree = BinaryTree(25)\n",
    "tree.root.left=Node(15)\n",
    "tree.root.right=Node(50)\n",
    "tree.root.left.left=Node(10)\n",
    "tree.root.left.right=Node(22)\n",
    "tree.root.right.left=Node(35)\n",
    "tree.root.right.right=Node(70) \n",
    "tree.root.left.left.left=Node(4)\n",
    "tree.root.left.left.right=Node(12) \n",
    "tree.root.left.right.left=Node(18)\n",
    "tree.root.left.right.right=Node(24)\n",
    "tree.root.right.left.left=Node(31) \n",
    "tree.root.right.left.right=Node(44) \n",
    "tree.root.right.left.left=Node(31) \n",
    "tree.root.right.right.left=Node(66) \n",
    "tree.root.right.right.right=Node(90) \n",
    "\n",
    "#tree.print_tree(\"preorder\")\n",
    "#tree.print_tree(\"postorder\")\n",
    "tree.print_tree(\"inorder\")\n",
    "\n"
   ]
  }
 ],
 "metadata": {
  "interpreter": {
   "hash": "2be5faf79681da6f2a61fdfdd5405d65d042280f7fba6178067603e3a2925119"
  },
  "kernelspec": {
   "display_name": "Python 3.10.0 64-bit",
   "language": "python",
   "name": "python3"
  },
  "language_info": {
   "codemirror_mode": {
    "name": "ipython",
    "version": 3
   },
   "file_extension": ".py",
   "mimetype": "text/x-python",
   "name": "python",
   "nbconvert_exporter": "python",
   "pygments_lexer": "ipython3",
   "version": "3.10.0"
  },
  "orig_nbformat": 4
 },
 "nbformat": 4,
 "nbformat_minor": 2
}
